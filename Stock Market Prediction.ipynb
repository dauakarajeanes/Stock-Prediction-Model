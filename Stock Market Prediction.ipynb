{
 "cells": [
  {
   "cell_type": "code",
   "execution_count": 74,
   "metadata": {},
   "outputs": [],
   "source": [
    "import numpy as np\n",
    "import pandas as pd\n",
    "import matplotlib.pyplot as plt\n",
    "import yfinance as yf"
   ]
  },
  {
   "cell_type": "code",
   "execution_count": 75,
   "metadata": {},
   "outputs": [
    {
     "name": "stderr",
     "output_type": "stream",
     "text": [
      "[*********************100%***********************]  1 of 1 completed\n"
     ]
    }
   ],
   "source": [
    "start = '2012-01-01'\n",
    "end = '2024-01-01'\n",
    "stock = 'GOOG'\n",
    "\n",
    "data = yf.download(stock, start, end)"
   ]
  },
  {
   "cell_type": "code",
   "execution_count": 76,
   "metadata": {},
   "outputs": [],
   "source": [
    "data.reset_index(inplace=True)"
   ]
  },
  {
   "cell_type": "code",
   "execution_count": 77,
   "metadata": {},
   "outputs": [
    {
     "data": {
      "text/html": [
       "<div>\n",
       "<style scoped>\n",
       "    .dataframe tbody tr th:only-of-type {\n",
       "        vertical-align: middle;\n",
       "    }\n",
       "\n",
       "    .dataframe tbody tr th {\n",
       "        vertical-align: top;\n",
       "    }\n",
       "\n",
       "    .dataframe thead tr th {\n",
       "        text-align: left;\n",
       "    }\n",
       "</style>\n",
       "<table border=\"1\" class=\"dataframe\">\n",
       "  <thead>\n",
       "    <tr>\n",
       "      <th>Price</th>\n",
       "      <th>Date</th>\n",
       "      <th>Adj Close</th>\n",
       "      <th>Close</th>\n",
       "      <th>High</th>\n",
       "      <th>Low</th>\n",
       "      <th>Open</th>\n",
       "      <th>Volume</th>\n",
       "    </tr>\n",
       "    <tr>\n",
       "      <th>Ticker</th>\n",
       "      <th></th>\n",
       "      <th>GOOG</th>\n",
       "      <th>GOOG</th>\n",
       "      <th>GOOG</th>\n",
       "      <th>GOOG</th>\n",
       "      <th>GOOG</th>\n",
       "      <th>GOOG</th>\n",
       "    </tr>\n",
       "  </thead>\n",
       "  <tbody>\n",
       "    <tr>\n",
       "      <th>0</th>\n",
       "      <td>2012-01-03</td>\n",
       "      <td>16.532528</td>\n",
       "      <td>16.573130</td>\n",
       "      <td>16.641375</td>\n",
       "      <td>16.248346</td>\n",
       "      <td>16.262545</td>\n",
       "      <td>147611217</td>\n",
       "    </tr>\n",
       "    <tr>\n",
       "      <th>1</th>\n",
       "      <td>2012-01-04</td>\n",
       "      <td>16.603836</td>\n",
       "      <td>16.644611</td>\n",
       "      <td>16.693678</td>\n",
       "      <td>16.453827</td>\n",
       "      <td>16.563665</td>\n",
       "      <td>114989399</td>\n",
       "    </tr>\n",
       "    <tr>\n",
       "      <th>2</th>\n",
       "      <td>2012-01-05</td>\n",
       "      <td>16.373516</td>\n",
       "      <td>16.413727</td>\n",
       "      <td>16.537264</td>\n",
       "      <td>16.344486</td>\n",
       "      <td>16.491436</td>\n",
       "      <td>131808205</td>\n",
       "    </tr>\n",
       "    <tr>\n",
       "      <th>3</th>\n",
       "      <td>2012-01-06</td>\n",
       "      <td>16.150156</td>\n",
       "      <td>16.189817</td>\n",
       "      <td>16.438385</td>\n",
       "      <td>16.184088</td>\n",
       "      <td>16.417213</td>\n",
       "      <td>108119746</td>\n",
       "    </tr>\n",
       "    <tr>\n",
       "      <th>4</th>\n",
       "      <td>2012-01-09</td>\n",
       "      <td>15.465409</td>\n",
       "      <td>15.503389</td>\n",
       "      <td>16.114599</td>\n",
       "      <td>15.472754</td>\n",
       "      <td>16.102144</td>\n",
       "      <td>233776981</td>\n",
       "    </tr>\n",
       "    <tr>\n",
       "      <th>...</th>\n",
       "      <td>...</td>\n",
       "      <td>...</td>\n",
       "      <td>...</td>\n",
       "      <td>...</td>\n",
       "      <td>...</td>\n",
       "      <td>...</td>\n",
       "      <td>...</td>\n",
       "    </tr>\n",
       "    <tr>\n",
       "      <th>3013</th>\n",
       "      <td>2023-12-22</td>\n",
       "      <td>142.370361</td>\n",
       "      <td>142.720001</td>\n",
       "      <td>143.250000</td>\n",
       "      <td>142.054993</td>\n",
       "      <td>142.130005</td>\n",
       "      <td>18494700</td>\n",
       "    </tr>\n",
       "    <tr>\n",
       "      <th>3014</th>\n",
       "      <td>2023-12-26</td>\n",
       "      <td>142.470123</td>\n",
       "      <td>142.820007</td>\n",
       "      <td>143.945007</td>\n",
       "      <td>142.500000</td>\n",
       "      <td>142.979996</td>\n",
       "      <td>11170100</td>\n",
       "    </tr>\n",
       "    <tr>\n",
       "      <th>3015</th>\n",
       "      <td>2023-12-27</td>\n",
       "      <td>141.093506</td>\n",
       "      <td>141.440002</td>\n",
       "      <td>143.320007</td>\n",
       "      <td>141.050995</td>\n",
       "      <td>142.830002</td>\n",
       "      <td>17288400</td>\n",
       "    </tr>\n",
       "    <tr>\n",
       "      <th>3016</th>\n",
       "      <td>2023-12-28</td>\n",
       "      <td>140.933899</td>\n",
       "      <td>141.279999</td>\n",
       "      <td>142.270004</td>\n",
       "      <td>140.828003</td>\n",
       "      <td>141.850006</td>\n",
       "      <td>12192500</td>\n",
       "    </tr>\n",
       "    <tr>\n",
       "      <th>3017</th>\n",
       "      <td>2023-12-29</td>\n",
       "      <td>140.584747</td>\n",
       "      <td>140.929993</td>\n",
       "      <td>141.434998</td>\n",
       "      <td>139.899994</td>\n",
       "      <td>140.679993</td>\n",
       "      <td>14872700</td>\n",
       "    </tr>\n",
       "  </tbody>\n",
       "</table>\n",
       "<p>3018 rows × 7 columns</p>\n",
       "</div>"
      ],
      "text/plain": [
       "Price        Date   Adj Close       Close        High         Low        Open  \\\n",
       "Ticker                   GOOG        GOOG        GOOG        GOOG        GOOG   \n",
       "0      2012-01-03   16.532528   16.573130   16.641375   16.248346   16.262545   \n",
       "1      2012-01-04   16.603836   16.644611   16.693678   16.453827   16.563665   \n",
       "2      2012-01-05   16.373516   16.413727   16.537264   16.344486   16.491436   \n",
       "3      2012-01-06   16.150156   16.189817   16.438385   16.184088   16.417213   \n",
       "4      2012-01-09   15.465409   15.503389   16.114599   15.472754   16.102144   \n",
       "...           ...         ...         ...         ...         ...         ...   \n",
       "3013   2023-12-22  142.370361  142.720001  143.250000  142.054993  142.130005   \n",
       "3014   2023-12-26  142.470123  142.820007  143.945007  142.500000  142.979996   \n",
       "3015   2023-12-27  141.093506  141.440002  143.320007  141.050995  142.830002   \n",
       "3016   2023-12-28  140.933899  141.279999  142.270004  140.828003  141.850006   \n",
       "3017   2023-12-29  140.584747  140.929993  141.434998  139.899994  140.679993   \n",
       "\n",
       "Price      Volume  \n",
       "Ticker       GOOG  \n",
       "0       147611217  \n",
       "1       114989399  \n",
       "2       131808205  \n",
       "3       108119746  \n",
       "4       233776981  \n",
       "...           ...  \n",
       "3013     18494700  \n",
       "3014     11170100  \n",
       "3015     17288400  \n",
       "3016     12192500  \n",
       "3017     14872700  \n",
       "\n",
       "[3018 rows x 7 columns]"
      ]
     },
     "execution_count": 77,
     "metadata": {},
     "output_type": "execute_result"
    }
   ],
   "source": [
    "data"
   ]
  },
  {
   "cell_type": "code",
   "execution_count": 78,
   "metadata": {},
   "outputs": [],
   "source": [
    "ma_50_days = data.Close.rolling(50).mean()"
   ]
  },
  {
   "cell_type": "code",
   "execution_count": 79,
   "metadata": {},
   "outputs": [
    {
     "data": {
      "text/plain": [
       "<function matplotlib.pyplot.show(close=None, block=None)>"
      ]
     },
     "execution_count": 79,
     "metadata": {},
     "output_type": "execute_result"
    },
    {
     "data": {
      "image/png": "[encoded data removed]",
      "text/plain": [
       "<Figure size 800x600 with 1 Axes>"
      ]
     },
     "metadata": {},
     "output_type": "display_data"
    }
   ],
   "source": [
    "plt.figure(figsize=(8,6))\n",
    "plt.plot(ma_50_days, 'y')\n",
    "plt.plot(data.Close, 'g' )\n",
    "plt.show"
   ]
  },
  {
   "cell_type": "code",
   "execution_count": 80,
   "metadata": {},
   "outputs": [],
   "source": [
    "ma_100_days = data.Close.rolling(100).mean()"
   ]
  },
  {
   "cell_type": "code",
   "execution_count": 81,
   "metadata": {},
   "outputs": [
    {
     "data": {
      "text/plain": [
       "<function matplotlib.pyplot.show(close=None, block=None)>"
      ]
     },
     "execution_count": 81,
     "metadata": {},
     "output_type": "execute_result"
    },
    {
     "data": {
      "image/png": "[encoded data removed]",
      "text/plain": [
       "<Figure size 800x600 with 1 Axes>"
      ]
     },
     "metadata": {},
     "output_type": "display_data"
    }
   ],
   "source": [
    "plt.figure(figsize=(8,6))\n",
    "plt.plot(ma_50_days, 'y')\n",
    "plt.plot(ma_100_days, 'r')\n",
    "plt.plot(data.Close, 'g' )\n",
    "plt.show\n"
   ]
  },
  {
   "cell_type": "code",
   "execution_count": 82,
   "metadata": {},
   "outputs": [],
   "source": [
    "ma_200_days = data.Close.rolling(200).mean()"
   ]
  },
  {
   "cell_type": "code",
   "execution_count": 83,
   "metadata": {},
   "outputs": [
    {
     "data": {
      "text/plain": [
       "<function matplotlib.pyplot.show(close=None, block=None)>"
      ]
     },
     "execution_count": 83,
     "metadata": {},
     "output_type": "execute_result"
    },
    {
     "data": {
      "image/png": "[encoded data removed]",
      "text/plain": [
       "<Figure size 800x600 with 1 Axes>"
      ]
     },
     "metadata": {},
     "output_type": "display_data"
    }
   ],
   "source": [
    "plt.figure(figsize=(8,6))\n",
    "plt.plot(ma_50_days, 'y')\n",
    "plt.plot(ma_100_days, 'r')\n",
    "plt.plot(ma_200_days, 'b')\n",
    "plt.plot(data.Close, 'g' )\n",
    "plt.show"
   ]
  },
  {
   "cell_type": "code",
   "execution_count": 84,
   "metadata": {},
   "outputs": [],
   "source": [
    "data.dropna(inplace=True)"
   ]
  },
  {
   "cell_type": "code",
   "execution_count": 85,
   "metadata": {},
   "outputs": [],
   "source": [
    "train_data = pd.DataFrame(data.Close[0: int(len(data)*0.80)])\n",
    "test_data = pd.DataFrame(data.Close[int(len(data)*0.80): len(data)])"
   ]
  },
  {
   "cell_type": "code",
   "execution_count": 86,
   "metadata": {},
   "outputs": [
    {
     "data": {
      "text/plain": [
       "(2414, 604)"
      ]
     },
     "execution_count": 86,
     "metadata": {},
     "output_type": "execute_result"
    }
   ],
   "source": [
    "\n",
    "train_data.shape[0],test_data.shape[0]"
   ]
  },
  {
   "cell_type": "code",
   "execution_count": 87,
   "metadata": {},
   "outputs": [],
   "source": [
    "from sklearn.preprocessing import MinMaxScaler\n",
    "scaler =  MinMaxScaler(feature_range=(0,1))"
   ]
  },
  {
   "cell_type": "code",
   "execution_count": 88,
   "metadata": {},
   "outputs": [],
   "source": [
    "train_data_scale = scaler.fit_transform(train_data)"
   ]
  },
  {
   "cell_type": "code",
   "execution_count": 89,
   "metadata": {},
   "outputs": [],
   "source": [
    "x = []\n",
    "y = []\n",
    "\n",
    "for i in range (100, train_data_scale.shape[0]):\n",
    "    x.append(train_data_scale[i-100:i])\n",
    "    y.append(train_data_scale[i,0])"
   ]
  },
  {
   "cell_type": "code",
   "execution_count": 116,
   "metadata": {},
   "outputs": [],
   "source": [
    "x, y =np.array(x), np.array(y)"
   ]
  },
  {
   "cell_type": "code",
   "execution_count": 91,
   "metadata": {},
   "outputs": [],
   "source": [
    "from tensorflow.keras.models import Sequential\n",
    "from tensorflow.keras.layers import Dense, Dropout, LSTM"
   ]
  },
  {
   "cell_type": "code",
   "execution_count": 92,
   "metadata": {},
   "outputs": [
    {
     "name": "stderr",
     "output_type": "stream",
     "text": [
      "c:\\Users\\dkara\\AppData\\Local\\Programs\\anaconda3\\envs\\TF\\lib\\site-packages\\keras\\src\\layers\\rnn\\rnn.py:204: UserWarning: Do not pass an `input_shape`/`input_dim` argument to a layer. When using Sequential models, prefer using an `Input(shape)` object as the first layer in the model instead.\n",
      "  super().__init__(**kwargs)\n"
     ]
    }
   ],
   "source": [
    "model = Sequential()\n",
    "model.add(LSTM(units = 50, activation = 'relu', return_sequences = True, input_shape = ((x.shape[1],1))))\n",
    "model.add(Dropout(0.2))\n",
    "model.add(LSTM(units = 60, activation = 'relu', return_sequences = True))\n",
    "model.add(Dropout(0.3))\n",
    "model.add(LSTM(units = 80, activation = 'relu', return_sequences = True))\n",
    "model.add(Dropout(0.4))\n",
    "model.add(LSTM(units = 120, activation = 'relu'))\n",
    "model.add(Dropout(0.5))\n",
    "\n",
    "model.add(Dense(units=1))\n"
   ]
  },
  {
   "cell_type": "code",
   "execution_count": 93,
   "metadata": {},
   "outputs": [
    {
     "data": {
      "text/html": [
       "<pre style=\"white-space:pre;overflow-x:auto;line-height:normal;font-family:Menlo,'DejaVu Sans Mono',consolas,'Courier New',monospace\"><span style=\"font-weight: bold\">Model: \"sequential_2\"</span>\n",
       "</pre>\n"
      ],
      "text/plain": [
       "\u001b[1mModel: \"sequential_2\"\u001b[0m\n"
      ]
     },
     "metadata": {},
     "output_type": "display_data"
    },
    {
     "data": {
      "text/html": [
       "<pre style=\"white-space:pre;overflow-x:auto;line-height:normal;font-family:Menlo,'DejaVu Sans Mono',consolas,'Courier New',monospace\">┏━━━━━━━━━━━━━━━━━━━━━━━━━━━━━━━━━┳━━━━━━━━━━━━━━━━━━━━━━━━┳━━━━━━━━━━━━━━━┓\n",
       "┃<span style=\"font-weight: bold\"> Layer (type)                    </span>┃<span style=\"font-weight: bold\"> Output Shape           </span>┃<span style=\"font-weight: bold\">       Param # </span>┃\n",
       "┡━━━━━━━━━━━━━━━━━━━━━━━━━━━━━━━━━╇━━━━━━━━━━━━━━━━━━━━━━━━╇━━━━━━━━━━━━━━━┩\n",
       "│ lstm_8 (<span style=\"color: #0087ff; text-decoration-color: #0087ff\">LSTM</span>)                   │ (<span style=\"color: #00d7ff; text-decoration-color: #00d7ff\">None</span>, <span style=\"color: #00af00; text-decoration-color: #00af00\">100</span>, <span style=\"color: #00af00; text-decoration-color: #00af00\">50</span>)        │        <span style=\"color: #00af00; text-decoration-color: #00af00\">10,400</span> │\n",
       "├─────────────────────────────────┼────────────────────────┼───────────────┤\n",
       "│ dropout_8 (<span style=\"color: #0087ff; text-decoration-color: #0087ff\">Dropout</span>)             │ (<span style=\"color: #00d7ff; text-decoration-color: #00d7ff\">None</span>, <span style=\"color: #00af00; text-decoration-color: #00af00\">100</span>, <span style=\"color: #00af00; text-decoration-color: #00af00\">50</span>)        │             <span style=\"color: #00af00; text-decoration-color: #00af00\">0</span> │\n",
       "├─────────────────────────────────┼────────────────────────┼───────────────┤\n",
       "│ lstm_9 (<span style=\"color: #0087ff; text-decoration-color: #0087ff\">LSTM</span>)                   │ (<span style=\"color: #00d7ff; text-decoration-color: #00d7ff\">None</span>, <span style=\"color: #00af00; text-decoration-color: #00af00\">100</span>, <span style=\"color: #00af00; text-decoration-color: #00af00\">60</span>)        │        <span style=\"color: #00af00; text-decoration-color: #00af00\">26,640</span> │\n",
       "├─────────────────────────────────┼────────────────────────┼───────────────┤\n",
       "│ dropout_9 (<span style=\"color: #0087ff; text-decoration-color: #0087ff\">Dropout</span>)             │ (<span style=\"color: #00d7ff; text-decoration-color: #00d7ff\">None</span>, <span style=\"color: #00af00; text-decoration-color: #00af00\">100</span>, <span style=\"color: #00af00; text-decoration-color: #00af00\">60</span>)        │             <span style=\"color: #00af00; text-decoration-color: #00af00\">0</span> │\n",
       "├─────────────────────────────────┼────────────────────────┼───────────────┤\n",
       "│ lstm_10 (<span style=\"color: #0087ff; text-decoration-color: #0087ff\">LSTM</span>)                  │ (<span style=\"color: #00d7ff; text-decoration-color: #00d7ff\">None</span>, <span style=\"color: #00af00; text-decoration-color: #00af00\">100</span>, <span style=\"color: #00af00; text-decoration-color: #00af00\">80</span>)        │        <span style=\"color: #00af00; text-decoration-color: #00af00\">45,120</span> │\n",
       "├─────────────────────────────────┼────────────────────────┼───────────────┤\n",
       "│ dropout_10 (<span style=\"color: #0087ff; text-decoration-color: #0087ff\">Dropout</span>)            │ (<span style=\"color: #00d7ff; text-decoration-color: #00d7ff\">None</span>, <span style=\"color: #00af00; text-decoration-color: #00af00\">100</span>, <span style=\"color: #00af00; text-decoration-color: #00af00\">80</span>)        │             <span style=\"color: #00af00; text-decoration-color: #00af00\">0</span> │\n",
       "├─────────────────────────────────┼────────────────────────┼───────────────┤\n",
       "│ lstm_11 (<span style=\"color: #0087ff; text-decoration-color: #0087ff\">LSTM</span>)                  │ (<span style=\"color: #00d7ff; text-decoration-color: #00d7ff\">None</span>, <span style=\"color: #00af00; text-decoration-color: #00af00\">120</span>)            │        <span style=\"color: #00af00; text-decoration-color: #00af00\">96,480</span> │\n",
       "├─────────────────────────────────┼────────────────────────┼───────────────┤\n",
       "│ dropout_11 (<span style=\"color: #0087ff; text-decoration-color: #0087ff\">Dropout</span>)            │ (<span style=\"color: #00d7ff; text-decoration-color: #00d7ff\">None</span>, <span style=\"color: #00af00; text-decoration-color: #00af00\">120</span>)            │             <span style=\"color: #00af00; text-decoration-color: #00af00\">0</span> │\n",
       "├─────────────────────────────────┼────────────────────────┼───────────────┤\n",
       "│ dense_2 (<span style=\"color: #0087ff; text-decoration-color: #0087ff\">Dense</span>)                 │ (<span style=\"color: #00d7ff; text-decoration-color: #00d7ff\">None</span>, <span style=\"color: #00af00; text-decoration-color: #00af00\">1</span>)              │           <span style=\"color: #00af00; text-decoration-color: #00af00\">121</span> │\n",
       "└─────────────────────────────────┴────────────────────────┴───────────────┘\n",
       "</pre>\n"
      ],
      "text/plain": [
       "┏━━━━━━━━━━━━━━━━━━━━━━━━━━━━━━━━━┳━━━━━━━━━━━━━━━━━━━━━━━━┳━━━━━━━━━━━━━━━┓\n",
       "┃\u001b[1m \u001b[0m\u001b[1mLayer (type)                   \u001b[0m\u001b[1m \u001b[0m┃\u001b[1m \u001b[0m\u001b[1mOutput Shape          \u001b[0m\u001b[1m \u001b[0m┃\u001b[1m \u001b[0m\u001b[1m      Param #\u001b[0m\u001b[1m \u001b[0m┃\n",
       "┡━━━━━━━━━━━━━━━━━━━━━━━━━━━━━━━━━╇━━━━━━━━━━━━━━━━━━━━━━━━╇━━━━━━━━━━━━━━━┩\n",
       "│ lstm_8 (\u001b[38;5;33mLSTM\u001b[0m)                   │ (\u001b[38;5;45mNone\u001b[0m, \u001b[38;5;34m100\u001b[0m, \u001b[38;5;34m50\u001b[0m)        │        \u001b[38;5;34m10,400\u001b[0m │\n",
       "├─────────────────────────────────┼────────────────────────┼───────────────┤\n",
       "│ dropout_8 (\u001b[38;5;33mDropout\u001b[0m)             │ (\u001b[38;5;45mNone\u001b[0m, \u001b[38;5;34m100\u001b[0m, \u001b[38;5;34m50\u001b[0m)        │             \u001b[38;5;34m0\u001b[0m │\n",
       "├─────────────────────────────────┼────────────────────────┼───────────────┤\n",
       "│ lstm_9 (\u001b[38;5;33mLSTM\u001b[0m)                   │ (\u001b[38;5;45mNone\u001b[0m, \u001b[38;5;34m100\u001b[0m, \u001b[38;5;34m60\u001b[0m)        │        \u001b[38;5;34m26,640\u001b[0m │\n",
       "├─────────────────────────────────┼────────────────────────┼───────────────┤\n",
       "│ dropout_9 (\u001b[38;5;33mDropout\u001b[0m)             │ (\u001b[38;5;45mNone\u001b[0m, \u001b[38;5;34m100\u001b[0m, \u001b[38;5;34m60\u001b[0m)        │             \u001b[38;5;34m0\u001b[0m │\n",
       "├─────────────────────────────────┼────────────────────────┼───────────────┤\n",
       "│ lstm_10 (\u001b[38;5;33mLSTM\u001b[0m)                  │ (\u001b[38;5;45mNone\u001b[0m, \u001b[38;5;34m100\u001b[0m, \u001b[38;5;34m80\u001b[0m)        │        \u001b[38;5;34m45,120\u001b[0m │\n",
       "├─────────────────────────────────┼────────────────────────┼───────────────┤\n",
       "│ dropout_10 (\u001b[38;5;33mDropout\u001b[0m)            │ (\u001b[38;5;45mNone\u001b[0m, \u001b[38;5;34m100\u001b[0m, \u001b[38;5;34m80\u001b[0m)        │             \u001b[38;5;34m0\u001b[0m │\n",
       "├─────────────────────────────────┼────────────────────────┼───────────────┤\n",
       "│ lstm_11 (\u001b[38;5;33mLSTM\u001b[0m)                  │ (\u001b[38;5;45mNone\u001b[0m, \u001b[38;5;34m120\u001b[0m)            │        \u001b[38;5;34m96,480\u001b[0m │\n",
       "├─────────────────────────────────┼────────────────────────┼───────────────┤\n",
       "│ dropout_11 (\u001b[38;5;33mDropout\u001b[0m)            │ (\u001b[38;5;45mNone\u001b[0m, \u001b[38;5;34m120\u001b[0m)            │             \u001b[38;5;34m0\u001b[0m │\n",
       "├─────────────────────────────────┼────────────────────────┼───────────────┤\n",
       "│ dense_2 (\u001b[38;5;33mDense\u001b[0m)                 │ (\u001b[38;5;45mNone\u001b[0m, \u001b[38;5;34m1\u001b[0m)              │           \u001b[38;5;34m121\u001b[0m │\n",
       "└─────────────────────────────────┴────────────────────────┴───────────────┘\n"
      ]
     },
     "metadata": {},
     "output_type": "display_data"
    },
    {
     "data": {
      "text/html": [
       "<pre style=\"white-space:pre;overflow-x:auto;line-height:normal;font-family:Menlo,'DejaVu Sans Mono',consolas,'Courier New',monospace\"><span style=\"font-weight: bold\"> Total params: </span><span style=\"color: #00af00; text-decoration-color: #00af00\">178,761</span> (698.29 KB)\n",
       "</pre>\n"
      ],
      "text/plain": [
       "\u001b[1m Total params: \u001b[0m\u001b[38;5;34m178,761\u001b[0m (698.29 KB)\n"
      ]
     },
     "metadata": {},
     "output_type": "display_data"
    },
    {
     "data": {
      "text/html": [
       "<pre style=\"white-space:pre;overflow-x:auto;line-height:normal;font-family:Menlo,'DejaVu Sans Mono',consolas,'Courier New',monospace\"><span style=\"font-weight: bold\"> Trainable params: </span><span style=\"color: #00af00; text-decoration-color: #00af00\">178,761</span> (698.29 KB)\n",
       "</pre>\n"
      ],
      "text/plain": [
       "\u001b[1m Trainable params: \u001b[0m\u001b[38;5;34m178,761\u001b[0m (698.29 KB)\n"
      ]
     },
     "metadata": {},
     "output_type": "display_data"
    },
    {
     "data": {
      "text/html": [
       "<pre style=\"white-space:pre;overflow-x:auto;line-height:normal;font-family:Menlo,'DejaVu Sans Mono',consolas,'Courier New',monospace\"><span style=\"font-weight: bold\"> Non-trainable params: </span><span style=\"color: #00af00; text-decoration-color: #00af00\">0</span> (0.00 B)\n",
       "</pre>\n"
      ],
      "text/plain": [
       "\u001b[1m Non-trainable params: \u001b[0m\u001b[38;5;34m0\u001b[0m (0.00 B)\n"
      ]
     },
     "metadata": {},
     "output_type": "display_data"
    },
    {
     "name": "stdout",
     "output_type": "stream",
     "text": [
      "Epoch 1/50\n",
      "\u001b[1m73/73\u001b[0m \u001b[32m━━━━━━━━━━━━━━━━━━━━\u001b[0m\u001b[37m\u001b[0m \u001b[1m12s\u001b[0m 103ms/step - loss: 0.0416\n",
      "Epoch 2/50\n",
      "\u001b[1m73/73\u001b[0m \u001b[32m━━━━━━━━━━━━━━━━━━━━\u001b[0m\u001b[37m\u001b[0m \u001b[1m7s\u001b[0m 101ms/step - loss: 0.0042\n",
      "Epoch 3/50\n",
      "\u001b[1m73/73\u001b[0m \u001b[32m━━━━━━━━━━━━━━━━━━━━\u001b[0m\u001b[37m\u001b[0m \u001b[1m8s\u001b[0m 104ms/step - loss: 0.0031\n",
      "Epoch 4/50\n",
      "\u001b[1m73/73\u001b[0m \u001b[32m━━━━━━━━━━━━━━━━━━━━\u001b[0m\u001b[37m\u001b[0m \u001b[1m9s\u001b[0m 120ms/step - loss: 0.0031\n",
      "Epoch 5/50\n",
      "\u001b[1m73/73\u001b[0m \u001b[32m━━━━━━━━━━━━━━━━━━━━\u001b[0m\u001b[37m\u001b[0m \u001b[1m9s\u001b[0m 121ms/step - loss: 0.0034\n",
      "Epoch 6/50\n",
      "\u001b[1m73/73\u001b[0m \u001b[32m━━━━━━━━━━━━━━━━━━━━\u001b[0m\u001b[37m\u001b[0m \u001b[1m9s\u001b[0m 125ms/step - loss: 0.0028\n",
      "Epoch 7/50\n",
      "\u001b[1m73/73\u001b[0m \u001b[32m━━━━━━━━━━━━━━━━━━━━\u001b[0m\u001b[37m\u001b[0m \u001b[1m10s\u001b[0m 135ms/step - loss: 0.0026\n",
      "Epoch 8/50\n",
      "\u001b[1m73/73\u001b[0m \u001b[32m━━━━━━━━━━━━━━━━━━━━\u001b[0m\u001b[37m\u001b[0m \u001b[1m10s\u001b[0m 135ms/step - loss: 0.0027\n",
      "Epoch 9/50\n",
      "\u001b[1m73/73\u001b[0m \u001b[32m━━━━━━━━━━━━━━━━━━━━\u001b[0m\u001b[37m\u001b[0m \u001b[1m10s\u001b[0m 136ms/step - loss: 0.0031\n",
      "Epoch 10/50\n",
      "\u001b[1m73/73\u001b[0m \u001b[32m━━━━━━━━━━━━━━━━━━━━\u001b[0m\u001b[37m\u001b[0m \u001b[1m10s\u001b[0m 139ms/step - loss: 0.0023\n",
      "Epoch 11/50\n",
      "\u001b[1m73/73\u001b[0m \u001b[32m━━━━━━━━━━━━━━━━━━━━\u001b[0m\u001b[37m\u001b[0m \u001b[1m10s\u001b[0m 139ms/step - loss: 0.0020\n",
      "Epoch 12/50\n",
      "\u001b[1m73/73\u001b[0m \u001b[32m━━━━━━━━━━━━━━━━━━━━\u001b[0m\u001b[37m\u001b[0m \u001b[1m10s\u001b[0m 136ms/step - loss: 0.0023\n",
      "Epoch 13/50\n",
      "\u001b[1m73/73\u001b[0m \u001b[32m━━━━━━━━━━━━━━━━━━━━\u001b[0m\u001b[37m\u001b[0m \u001b[1m10s\u001b[0m 132ms/step - loss: 0.0019\n",
      "Epoch 14/50\n",
      "\u001b[1m73/73\u001b[0m \u001b[32m━━━━━━━━━━━━━━━━━━━━\u001b[0m\u001b[37m\u001b[0m \u001b[1m11s\u001b[0m 146ms/step - loss: 0.0016\n",
      "Epoch 15/50\n",
      "\u001b[1m73/73\u001b[0m \u001b[32m━━━━━━━━━━━━━━━━━━━━\u001b[0m\u001b[37m\u001b[0m \u001b[1m9s\u001b[0m 118ms/step - loss: 0.0018\n",
      "Epoch 16/50\n",
      "\u001b[1m73/73\u001b[0m \u001b[32m━━━━━━━━━━━━━━━━━━━━\u001b[0m\u001b[37m\u001b[0m \u001b[1m8s\u001b[0m 110ms/step - loss: 0.0017\n",
      "Epoch 17/50\n",
      "\u001b[1m73/73\u001b[0m \u001b[32m━━━━━━━━━━━━━━━━━━━━\u001b[0m\u001b[37m\u001b[0m \u001b[1m8s\u001b[0m 113ms/step - loss: 0.0020\n",
      "Epoch 18/50\n",
      "\u001b[1m73/73\u001b[0m \u001b[32m━━━━━━━━━━━━━━━━━━━━\u001b[0m\u001b[37m\u001b[0m \u001b[1m8s\u001b[0m 112ms/step - loss: 0.0017\n",
      "Epoch 19/50\n",
      "\u001b[1m73/73\u001b[0m \u001b[32m━━━━━━━━━━━━━━━━━━━━\u001b[0m\u001b[37m\u001b[0m \u001b[1m8s\u001b[0m 111ms/step - loss: 0.0020\n",
      "Epoch 20/50\n",
      "\u001b[1m73/73\u001b[0m \u001b[32m━━━━━━━━━━━━━━━━━━━━\u001b[0m\u001b[37m\u001b[0m \u001b[1m9s\u001b[0m 121ms/step - loss: 0.0014\n",
      "Epoch 21/50\n",
      "\u001b[1m73/73\u001b[0m \u001b[32m━━━━━━━━━━━━━━━━━━━━\u001b[0m\u001b[37m\u001b[0m \u001b[1m9s\u001b[0m 122ms/step - loss: 0.0013\n",
      "Epoch 22/50\n",
      "\u001b[1m73/73\u001b[0m \u001b[32m━━━━━━━━━━━━━━━━━━━━\u001b[0m\u001b[37m\u001b[0m \u001b[1m9s\u001b[0m 120ms/step - loss: 0.0016\n",
      "Epoch 23/50\n",
      "\u001b[1m73/73\u001b[0m \u001b[32m━━━━━━━━━━━━━━━━━━━━\u001b[0m\u001b[37m\u001b[0m \u001b[1m9s\u001b[0m 117ms/step - loss: 0.0017\n",
      "Epoch 24/50\n",
      "\u001b[1m73/73\u001b[0m \u001b[32m━━━━━━━━━━━━━━━━━━━━\u001b[0m\u001b[37m\u001b[0m \u001b[1m9s\u001b[0m 119ms/step - loss: 0.0015\n",
      "Epoch 25/50\n",
      "\u001b[1m73/73\u001b[0m \u001b[32m━━━━━━━━━━━━━━━━━━━━\u001b[0m\u001b[37m\u001b[0m \u001b[1m9s\u001b[0m 118ms/step - loss: 0.0014\n",
      "Epoch 26/50\n",
      "\u001b[1m73/73\u001b[0m \u001b[32m━━━━━━━━━━━━━━━━━━━━\u001b[0m\u001b[37m\u001b[0m \u001b[1m9s\u001b[0m 121ms/step - loss: 0.0016\n",
      "Epoch 27/50\n",
      "\u001b[1m73/73\u001b[0m \u001b[32m━━━━━━━━━━━━━━━━━━━━\u001b[0m\u001b[37m\u001b[0m \u001b[1m9s\u001b[0m 123ms/step - loss: 0.0015\n",
      "Epoch 28/50\n",
      "\u001b[1m73/73\u001b[0m \u001b[32m━━━━━━━━━━━━━━━━━━━━\u001b[0m\u001b[37m\u001b[0m \u001b[1m9s\u001b[0m 125ms/step - loss: 0.0015\n",
      "Epoch 29/50\n",
      "\u001b[1m73/73\u001b[0m \u001b[32m━━━━━━━━━━━━━━━━━━━━\u001b[0m\u001b[37m\u001b[0m \u001b[1m9s\u001b[0m 125ms/step - loss: 0.0015\n",
      "Epoch 30/50\n",
      "\u001b[1m73/73\u001b[0m \u001b[32m━━━━━━━━━━━━━━━━━━━━\u001b[0m\u001b[37m\u001b[0m \u001b[1m9s\u001b[0m 120ms/step - loss: 0.0014\n",
      "Epoch 31/50\n",
      "\u001b[1m73/73\u001b[0m \u001b[32m━━━━━━━━━━━━━━━━━━━━\u001b[0m\u001b[37m\u001b[0m \u001b[1m10s\u001b[0m 136ms/step - loss: 0.0013\n",
      "Epoch 32/50\n",
      "\u001b[1m73/73\u001b[0m \u001b[32m━━━━━━━━━━━━━━━━━━━━\u001b[0m\u001b[37m\u001b[0m \u001b[1m11s\u001b[0m 145ms/step - loss: 0.0014\n",
      "Epoch 33/50\n",
      "\u001b[1m73/73\u001b[0m \u001b[32m━━━━━━━━━━━━━━━━━━━━\u001b[0m\u001b[37m\u001b[0m \u001b[1m11s\u001b[0m 144ms/step - loss: 0.0014\n",
      "Epoch 34/50\n",
      "\u001b[1m73/73\u001b[0m \u001b[32m━━━━━━━━━━━━━━━━━━━━\u001b[0m\u001b[37m\u001b[0m \u001b[1m11s\u001b[0m 145ms/step - loss: 0.0012\n",
      "Epoch 35/50\n",
      "\u001b[1m73/73\u001b[0m \u001b[32m━━━━━━━━━━━━━━━━━━━━\u001b[0m\u001b[37m\u001b[0m \u001b[1m11s\u001b[0m 146ms/step - loss: 0.0013\n",
      "Epoch 36/50\n",
      "\u001b[1m73/73\u001b[0m \u001b[32m━━━━━━━━━━━━━━━━━━━━\u001b[0m\u001b[37m\u001b[0m \u001b[1m11s\u001b[0m 156ms/step - loss: 0.0013\n",
      "Epoch 37/50\n",
      "\u001b[1m73/73\u001b[0m \u001b[32m━━━━━━━━━━━━━━━━━━━━\u001b[0m\u001b[37m\u001b[0m \u001b[1m17s\u001b[0m 233ms/step - loss: 0.0012\n",
      "Epoch 38/50\n",
      "\u001b[1m73/73\u001b[0m \u001b[32m━━━━━━━━━━━━━━━━━━━━\u001b[0m\u001b[37m\u001b[0m \u001b[1m15s\u001b[0m 205ms/step - loss: 0.0013\n",
      "Epoch 39/50\n",
      "\u001b[1m73/73\u001b[0m \u001b[32m━━━━━━━━━━━━━━━━━━━━\u001b[0m\u001b[37m\u001b[0m \u001b[1m15s\u001b[0m 202ms/step - loss: 0.0014\n",
      "Epoch 40/50\n",
      "\u001b[1m73/73\u001b[0m \u001b[32m━━━━━━━━━━━━━━━━━━━━\u001b[0m\u001b[37m\u001b[0m \u001b[1m16s\u001b[0m 216ms/step - loss: 0.0013\n",
      "Epoch 41/50\n",
      "\u001b[1m73/73\u001b[0m \u001b[32m━━━━━━━━━━━━━━━━━━━━\u001b[0m\u001b[37m\u001b[0m \u001b[1m14s\u001b[0m 190ms/step - loss: 0.0015\n",
      "Epoch 42/50\n",
      "\u001b[1m73/73\u001b[0m \u001b[32m━━━━━━━━━━━━━━━━━━━━\u001b[0m\u001b[37m\u001b[0m \u001b[1m13s\u001b[0m 181ms/step - loss: 0.0014\n",
      "Epoch 43/50\n",
      "\u001b[1m73/73\u001b[0m \u001b[32m━━━━━━━━━━━━━━━━━━━━\u001b[0m\u001b[37m\u001b[0m \u001b[1m13s\u001b[0m 171ms/step - loss: 0.0013\n",
      "Epoch 44/50\n",
      "\u001b[1m73/73\u001b[0m \u001b[32m━━━━━━━━━━━━━━━━━━━━\u001b[0m\u001b[37m\u001b[0m \u001b[1m13s\u001b[0m 174ms/step - loss: 0.0013\n",
      "Epoch 45/50\n",
      "\u001b[1m73/73\u001b[0m \u001b[32m━━━━━━━━━━━━━━━━━━━━\u001b[0m\u001b[37m\u001b[0m \u001b[1m14s\u001b[0m 187ms/step - loss: 0.0014\n",
      "Epoch 46/50\n",
      "\u001b[1m73/73\u001b[0m \u001b[32m━━━━━━━━━━━━━━━━━━━━\u001b[0m\u001b[37m\u001b[0m \u001b[1m13s\u001b[0m 178ms/step - loss: 0.0013\n",
      "Epoch 47/50\n",
      "\u001b[1m73/73\u001b[0m \u001b[32m━━━━━━━━━━━━━━━━━━━━\u001b[0m\u001b[37m\u001b[0m \u001b[1m13s\u001b[0m 173ms/step - loss: 0.0012\n",
      "Epoch 48/50\n",
      "\u001b[1m73/73\u001b[0m \u001b[32m━━━━━━━━━━━━━━━━━━━━\u001b[0m\u001b[37m\u001b[0m \u001b[1m14s\u001b[0m 188ms/step - loss: 0.0017\n",
      "Epoch 49/50\n",
      "\u001b[1m73/73\u001b[0m \u001b[32m━━━━━━━━━━━━━━━━━━━━\u001b[0m\u001b[37m\u001b[0m \u001b[1m16s\u001b[0m 213ms/step - loss: 0.0016\n",
      "Epoch 50/50\n",
      "\u001b[1m73/73\u001b[0m \u001b[32m━━━━━━━━━━━━━━━━━━━━\u001b[0m\u001b[37m\u001b[0m \u001b[1m15s\u001b[0m 199ms/step - loss: 0.0013\n"
     ]
    },
    {
     "data": {
      "text/plain": [
       "<keras.src.callbacks.history.History at 0x204f180f610>"
      ]
     },
     "execution_count": 93,
     "metadata": {},
     "output_type": "execute_result"
    }
   ],
   "source": [
    "model.compile(optimizer='adam', loss='mean_squared_error')\n",
    "\n",
    "model.summary()\n",
    "\n",
    "model.fit(x, y, epochs = 50, batch_size = 32, verbose =1)"
   ]
  },
  {
   "cell_type": "code",
   "execution_count": 94,
   "metadata": {},
   "outputs": [
    {
     "data": {
      "text/html": [
       "<pre style=\"white-space:pre;overflow-x:auto;line-height:normal;font-family:Menlo,'DejaVu Sans Mono',consolas,'Courier New',monospace\"><span style=\"font-weight: bold\">Model: \"sequential_2\"</span>\n",
       "</pre>\n"
      ],
      "text/plain": [
       "\u001b[1mModel: \"sequential_2\"\u001b[0m\n"
      ]
     },
     "metadata": {},
     "output_type": "display_data"
    },
    {
     "data": {
      "text/html": [
       "<pre style=\"white-space:pre;overflow-x:auto;line-height:normal;font-family:Menlo,'DejaVu Sans Mono',consolas,'Courier New',monospace\">┏━━━━━━━━━━━━━━━━━━━━━━━━━━━━━━━━━┳━━━━━━━━━━━━━━━━━━━━━━━━┳━━━━━━━━━━━━━━━┓\n",
       "┃<span style=\"font-weight: bold\"> Layer (type)                    </span>┃<span style=\"font-weight: bold\"> Output Shape           </span>┃<span style=\"font-weight: bold\">       Param # </span>┃\n",
       "┡━━━━━━━━━━━━━━━━━━━━━━━━━━━━━━━━━╇━━━━━━━━━━━━━━━━━━━━━━━━╇━━━━━━━━━━━━━━━┩\n",
       "│ lstm_8 (<span style=\"color: #0087ff; text-decoration-color: #0087ff\">LSTM</span>)                   │ (<span style=\"color: #00d7ff; text-decoration-color: #00d7ff\">None</span>, <span style=\"color: #00af00; text-decoration-color: #00af00\">100</span>, <span style=\"color: #00af00; text-decoration-color: #00af00\">50</span>)        │        <span style=\"color: #00af00; text-decoration-color: #00af00\">10,400</span> │\n",
       "├─────────────────────────────────┼────────────────────────┼───────────────┤\n",
       "│ dropout_8 (<span style=\"color: #0087ff; text-decoration-color: #0087ff\">Dropout</span>)             │ (<span style=\"color: #00d7ff; text-decoration-color: #00d7ff\">None</span>, <span style=\"color: #00af00; text-decoration-color: #00af00\">100</span>, <span style=\"color: #00af00; text-decoration-color: #00af00\">50</span>)        │             <span style=\"color: #00af00; text-decoration-color: #00af00\">0</span> │\n",
       "├─────────────────────────────────┼────────────────────────┼───────────────┤\n",
       "│ lstm_9 (<span style=\"color: #0087ff; text-decoration-color: #0087ff\">LSTM</span>)                   │ (<span style=\"color: #00d7ff; text-decoration-color: #00d7ff\">None</span>, <span style=\"color: #00af00; text-decoration-color: #00af00\">100</span>, <span style=\"color: #00af00; text-decoration-color: #00af00\">60</span>)        │        <span style=\"color: #00af00; text-decoration-color: #00af00\">26,640</span> │\n",
       "├─────────────────────────────────┼────────────────────────┼───────────────┤\n",
       "│ dropout_9 (<span style=\"color: #0087ff; text-decoration-color: #0087ff\">Dropout</span>)             │ (<span style=\"color: #00d7ff; text-decoration-color: #00d7ff\">None</span>, <span style=\"color: #00af00; text-decoration-color: #00af00\">100</span>, <span style=\"color: #00af00; text-decoration-color: #00af00\">60</span>)        │             <span style=\"color: #00af00; text-decoration-color: #00af00\">0</span> │\n",
       "├─────────────────────────────────┼────────────────────────┼───────────────┤\n",
       "│ lstm_10 (<span style=\"color: #0087ff; text-decoration-color: #0087ff\">LSTM</span>)                  │ (<span style=\"color: #00d7ff; text-decoration-color: #00d7ff\">None</span>, <span style=\"color: #00af00; text-decoration-color: #00af00\">100</span>, <span style=\"color: #00af00; text-decoration-color: #00af00\">80</span>)        │        <span style=\"color: #00af00; text-decoration-color: #00af00\">45,120</span> │\n",
       "├─────────────────────────────────┼────────────────────────┼───────────────┤\n",
       "│ dropout_10 (<span style=\"color: #0087ff; text-decoration-color: #0087ff\">Dropout</span>)            │ (<span style=\"color: #00d7ff; text-decoration-color: #00d7ff\">None</span>, <span style=\"color: #00af00; text-decoration-color: #00af00\">100</span>, <span style=\"color: #00af00; text-decoration-color: #00af00\">80</span>)        │             <span style=\"color: #00af00; text-decoration-color: #00af00\">0</span> │\n",
       "├─────────────────────────────────┼────────────────────────┼───────────────┤\n",
       "│ lstm_11 (<span style=\"color: #0087ff; text-decoration-color: #0087ff\">LSTM</span>)                  │ (<span style=\"color: #00d7ff; text-decoration-color: #00d7ff\">None</span>, <span style=\"color: #00af00; text-decoration-color: #00af00\">120</span>)            │        <span style=\"color: #00af00; text-decoration-color: #00af00\">96,480</span> │\n",
       "├─────────────────────────────────┼────────────────────────┼───────────────┤\n",
       "│ dropout_11 (<span style=\"color: #0087ff; text-decoration-color: #0087ff\">Dropout</span>)            │ (<span style=\"color: #00d7ff; text-decoration-color: #00d7ff\">None</span>, <span style=\"color: #00af00; text-decoration-color: #00af00\">120</span>)            │             <span style=\"color: #00af00; text-decoration-color: #00af00\">0</span> │\n",
       "├─────────────────────────────────┼────────────────────────┼───────────────┤\n",
       "│ dense_2 (<span style=\"color: #0087ff; text-decoration-color: #0087ff\">Dense</span>)                 │ (<span style=\"color: #00d7ff; text-decoration-color: #00d7ff\">None</span>, <span style=\"color: #00af00; text-decoration-color: #00af00\">1</span>)              │           <span style=\"color: #00af00; text-decoration-color: #00af00\">121</span> │\n",
       "└─────────────────────────────────┴────────────────────────┴───────────────┘\n",
       "</pre>\n"
      ],
      "text/plain": [
       "┏━━━━━━━━━━━━━━━━━━━━━━━━━━━━━━━━━┳━━━━━━━━━━━━━━━━━━━━━━━━┳━━━━━━━━━━━━━━━┓\n",
       "┃\u001b[1m \u001b[0m\u001b[1mLayer (type)                   \u001b[0m\u001b[1m \u001b[0m┃\u001b[1m \u001b[0m\u001b[1mOutput Shape          \u001b[0m\u001b[1m \u001b[0m┃\u001b[1m \u001b[0m\u001b[1m      Param #\u001b[0m\u001b[1m \u001b[0m┃\n",
       "┡━━━━━━━━━━━━━━━━━━━━━━━━━━━━━━━━━╇━━━━━━━━━━━━━━━━━━━━━━━━╇━━━━━━━━━━━━━━━┩\n",
       "│ lstm_8 (\u001b[38;5;33mLSTM\u001b[0m)                   │ (\u001b[38;5;45mNone\u001b[0m, \u001b[38;5;34m100\u001b[0m, \u001b[38;5;34m50\u001b[0m)        │        \u001b[38;5;34m10,400\u001b[0m │\n",
       "├─────────────────────────────────┼────────────────────────┼───────────────┤\n",
       "│ dropout_8 (\u001b[38;5;33mDropout\u001b[0m)             │ (\u001b[38;5;45mNone\u001b[0m, \u001b[38;5;34m100\u001b[0m, \u001b[38;5;34m50\u001b[0m)        │             \u001b[38;5;34m0\u001b[0m │\n",
       "├─────────────────────────────────┼────────────────────────┼───────────────┤\n",
       "│ lstm_9 (\u001b[38;5;33mLSTM\u001b[0m)                   │ (\u001b[38;5;45mNone\u001b[0m, \u001b[38;5;34m100\u001b[0m, \u001b[38;5;34m60\u001b[0m)        │        \u001b[38;5;34m26,640\u001b[0m │\n",
       "├─────────────────────────────────┼────────────────────────┼───────────────┤\n",
       "│ dropout_9 (\u001b[38;5;33mDropout\u001b[0m)             │ (\u001b[38;5;45mNone\u001b[0m, \u001b[38;5;34m100\u001b[0m, \u001b[38;5;34m60\u001b[0m)        │             \u001b[38;5;34m0\u001b[0m │\n",
       "├─────────────────────────────────┼────────────────────────┼───────────────┤\n",
       "│ lstm_10 (\u001b[38;5;33mLSTM\u001b[0m)                  │ (\u001b[38;5;45mNone\u001b[0m, \u001b[38;5;34m100\u001b[0m, \u001b[38;5;34m80\u001b[0m)        │        \u001b[38;5;34m45,120\u001b[0m │\n",
       "├─────────────────────────────────┼────────────────────────┼───────────────┤\n",
       "│ dropout_10 (\u001b[38;5;33mDropout\u001b[0m)            │ (\u001b[38;5;45mNone\u001b[0m, \u001b[38;5;34m100\u001b[0m, \u001b[38;5;34m80\u001b[0m)        │             \u001b[38;5;34m0\u001b[0m │\n",
       "├─────────────────────────────────┼────────────────────────┼───────────────┤\n",
       "│ lstm_11 (\u001b[38;5;33mLSTM\u001b[0m)                  │ (\u001b[38;5;45mNone\u001b[0m, \u001b[38;5;34m120\u001b[0m)            │        \u001b[38;5;34m96,480\u001b[0m │\n",
       "├─────────────────────────────────┼────────────────────────┼───────────────┤\n",
       "│ dropout_11 (\u001b[38;5;33mDropout\u001b[0m)            │ (\u001b[38;5;45mNone\u001b[0m, \u001b[38;5;34m120\u001b[0m)            │             \u001b[38;5;34m0\u001b[0m │\n",
       "├─────────────────────────────────┼────────────────────────┼───────────────┤\n",
       "│ dense_2 (\u001b[38;5;33mDense\u001b[0m)                 │ (\u001b[38;5;45mNone\u001b[0m, \u001b[38;5;34m1\u001b[0m)              │           \u001b[38;5;34m121\u001b[0m │\n",
       "└─────────────────────────────────┴────────────────────────┴───────────────┘\n"
      ]
     },
     "metadata": {},
     "output_type": "display_data"
    },
    {
     "data": {
      "text/html": [
       "<pre style=\"white-space:pre;overflow-x:auto;line-height:normal;font-family:Menlo,'DejaVu Sans Mono',consolas,'Courier New',monospace\"><span style=\"font-weight: bold\"> Total params: </span><span style=\"color: #00af00; text-decoration-color: #00af00\">536,285</span> (2.05 MB)\n",
       "</pre>\n"
      ],
      "text/plain": [
       "\u001b[1m Total params: \u001b[0m\u001b[38;5;34m536,285\u001b[0m (2.05 MB)\n"
      ]
     },
     "metadata": {},
     "output_type": "display_data"
    },
    {
     "data": {
      "text/html": [
       "<pre style=\"white-space:pre;overflow-x:auto;line-height:normal;font-family:Menlo,'DejaVu Sans Mono',consolas,'Courier New',monospace\"><span style=\"font-weight: bold\"> Trainable params: </span><span style=\"color: #00af00; text-decoration-color: #00af00\">178,761</span> (698.29 KB)\n",
       "</pre>\n"
      ],
      "text/plain": [
       "\u001b[1m Trainable params: \u001b[0m\u001b[38;5;34m178,761\u001b[0m (698.29 KB)\n"
      ]
     },
     "metadata": {},
     "output_type": "display_data"
    },
    {
     "data": {
      "text/html": [
       "<pre style=\"white-space:pre;overflow-x:auto;line-height:normal;font-family:Menlo,'DejaVu Sans Mono',consolas,'Courier New',monospace\"><span style=\"font-weight: bold\"> Non-trainable params: </span><span style=\"color: #00af00; text-decoration-color: #00af00\">0</span> (0.00 B)\n",
       "</pre>\n"
      ],
      "text/plain": [
       "\u001b[1m Non-trainable params: \u001b[0m\u001b[38;5;34m0\u001b[0m (0.00 B)\n"
      ]
     },
     "metadata": {},
     "output_type": "display_data"
    },
    {
     "data": {
      "text/html": [
       "<pre style=\"white-space:pre;overflow-x:auto;line-height:normal;font-family:Menlo,'DejaVu Sans Mono',consolas,'Courier New',monospace\"><span style=\"font-weight: bold\"> Optimizer params: </span><span style=\"color: #00af00; text-decoration-color: #00af00\">357,524</span> (1.36 MB)\n",
       "</pre>\n"
      ],
      "text/plain": [
       "\u001b[1m Optimizer params: \u001b[0m\u001b[38;5;34m357,524\u001b[0m (1.36 MB)\n"
      ]
     },
     "metadata": {},
     "output_type": "display_data"
    }
   ],
   "source": [
    "model.summary()"
   ]
  },
  {
   "cell_type": "code",
   "execution_count": 95,
   "metadata": {},
   "outputs": [],
   "source": [
    "pas_100_days = train_data.tail(100)"
   ]
  },
  {
   "cell_type": "code",
   "execution_count": 96,
   "metadata": {},
   "outputs": [],
   "source": [
    "test_data = pd.concat([pas_100_days, test_data], ignore_index=True)"
   ]
  },
  {
   "cell_type": "code",
   "execution_count": 97,
   "metadata": {},
   "outputs": [
    {
     "data": {
      "text/html": [
       "<div>\n",
       "<style scoped>\n",
       "    .dataframe tbody tr th:only-of-type {\n",
       "        vertical-align: middle;\n",
       "    }\n",
       "\n",
       "    .dataframe tbody tr th {\n",
       "        vertical-align: top;\n",
       "    }\n",
       "\n",
       "    .dataframe thead th {\n",
       "        text-align: right;\n",
       "    }\n",
       "</style>\n",
       "<table border=\"1\" class=\"dataframe\">\n",
       "  <thead>\n",
       "    <tr style=\"text-align: right;\">\n",
       "      <th>Ticker</th>\n",
       "      <th>GOOG</th>\n",
       "    </tr>\n",
       "  </thead>\n",
       "  <tbody>\n",
       "    <tr>\n",
       "      <th>0</th>\n",
       "      <td>104.625999</td>\n",
       "    </tr>\n",
       "    <tr>\n",
       "      <th>1</th>\n",
       "      <td>104.554001</td>\n",
       "    </tr>\n",
       "    <tr>\n",
       "      <th>2</th>\n",
       "      <td>101.810997</td>\n",
       "    </tr>\n",
       "    <tr>\n",
       "      <th>3</th>\n",
       "      <td>102.160004</td>\n",
       "    </tr>\n",
       "    <tr>\n",
       "      <th>4</th>\n",
       "      <td>101.929497</td>\n",
       "    </tr>\n",
       "    <tr>\n",
       "      <th>...</th>\n",
       "      <td>...</td>\n",
       "    </tr>\n",
       "    <tr>\n",
       "      <th>699</th>\n",
       "      <td>142.720001</td>\n",
       "    </tr>\n",
       "    <tr>\n",
       "      <th>700</th>\n",
       "      <td>142.820007</td>\n",
       "    </tr>\n",
       "    <tr>\n",
       "      <th>701</th>\n",
       "      <td>141.440002</td>\n",
       "    </tr>\n",
       "    <tr>\n",
       "      <th>702</th>\n",
       "      <td>141.279999</td>\n",
       "    </tr>\n",
       "    <tr>\n",
       "      <th>703</th>\n",
       "      <td>140.929993</td>\n",
       "    </tr>\n",
       "  </tbody>\n",
       "</table>\n",
       "<p>704 rows × 1 columns</p>\n",
       "</div>"
      ],
      "text/plain": [
       "Ticker        GOOG\n",
       "0       104.625999\n",
       "1       104.554001\n",
       "2       101.810997\n",
       "3       102.160004\n",
       "4       101.929497\n",
       "..             ...\n",
       "699     142.720001\n",
       "700     142.820007\n",
       "701     141.440002\n",
       "702     141.279999\n",
       "703     140.929993\n",
       "\n",
       "[704 rows x 1 columns]"
      ]
     },
     "execution_count": 97,
     "metadata": {},
     "output_type": "execute_result"
    }
   ],
   "source": [
    "test_data"
   ]
  },
  {
   "cell_type": "code",
   "execution_count": 100,
   "metadata": {},
   "outputs": [],
   "source": [
    "test_data_scale = scaler.fit_transform(test_data)"
   ]
  },
  {
   "cell_type": "code",
   "execution_count": 101,
   "metadata": {},
   "outputs": [],
   "source": [
    "x = []\n",
    "y = []\n",
    "\n",
    "for i in range (100, test_data_scale.shape[0]):\n",
    "    x.append(test_data_scale[i-100:i])\n",
    "    y.append(test_data_scale[i,0]) "
   ]
  },
  {
   "cell_type": "code",
   "execution_count": 102,
   "metadata": {},
   "outputs": [],
   "source": [
    "x, y =np.array(x), np.array(y)"
   ]
  },
  {
   "cell_type": "code",
   "execution_count": 103,
   "metadata": {},
   "outputs": [
    {
     "name": "stdout",
     "output_type": "stream",
     "text": [
      "\u001b[1m19/19\u001b[0m \u001b[32m━━━━━━━━━━━━━━━━━━━━\u001b[0m\u001b[37m\u001b[0m \u001b[1m2s\u001b[0m 73ms/step\n"
     ]
    }
   ],
   "source": [
    "y_predict = model.predict(x)"
   ]
  },
  {
   "cell_type": "code",
   "execution_count": 104,
   "metadata": {},
   "outputs": [
    {
     "data": {
      "text/plain": [
       "array([[0.742717  ],\n",
       "       [0.7432827 ],\n",
       "       [0.74419206],\n",
       "       [0.7459359 ],\n",
       "       [0.7484843 ],\n",
       "       [0.75179183],\n",
       "       [0.7556635 ],\n",
       "       [0.759964  ],\n",
       "       [0.7639789 ],\n",
       "       [0.76694244],\n",
       "       [0.768617  ],\n",
       "       [0.7695644 ],\n",
       "       [0.771173  ],\n",
       "       [0.7746988 ],\n",
       "       [0.7806737 ],\n",
       "       [0.78848547],\n",
       "       [0.7978369 ],\n",
       "       [0.8083779 ],\n",
       "       [0.81938857],\n",
       "       [0.83010936],\n",
       "       [0.8393303 ],\n",
       "       [0.8464491 ],\n",
       "       [0.85157764],\n",
       "       [0.85487723],\n",
       "       [0.856662  ],\n",
       "       [0.85651314],\n",
       "       [0.8548147 ],\n",
       "       [0.8522372 ],\n",
       "       [0.8499805 ],\n",
       "       [0.8487052 ],\n",
       "       [0.8478146 ],\n",
       "       [0.8460814 ],\n",
       "       [0.8430917 ],\n",
       "       [0.83939683],\n",
       "       [0.83601236],\n",
       "       [0.8339582 ],\n",
       "       [0.8334042 ],\n",
       "       [0.83261114],\n",
       "       [0.82989395],\n",
       "       [0.8243451 ],\n",
       "       [0.8168974 ],\n",
       "       [0.8081946 ],\n",
       "       [0.7995765 ],\n",
       "       [0.7925528 ],\n",
       "       [0.7885197 ],\n",
       "       [0.78821504],\n",
       "       [0.7910479 ],\n",
       "       [0.79521215],\n",
       "       [0.79944134],\n",
       "       [0.8039556 ],\n",
       "       [0.8090098 ],\n",
       "       [0.8148721 ],\n",
       "       [0.8216083 ],\n",
       "       [0.82840675],\n",
       "       [0.8345032 ],\n",
       "       [0.83816713],\n",
       "       [0.83858055],\n",
       "       [0.8360726 ],\n",
       "       [0.83335143],\n",
       "       [0.8325279 ],\n",
       "       [0.83515114],\n",
       "       [0.84005564],\n",
       "       [0.84620833],\n",
       "       [0.8529421 ],\n",
       "       [0.86021286],\n",
       "       [0.8679686 ],\n",
       "       [0.87589854],\n",
       "       [0.8834852 ],\n",
       "       [0.889477  ],\n",
       "       [0.8932172 ],\n",
       "       [0.89547044],\n",
       "       [0.8970485 ],\n",
       "       [0.8984325 ],\n",
       "       [0.8998779 ],\n",
       "       [0.90194786],\n",
       "       [0.90469986],\n",
       "       [0.9071353 ],\n",
       "       [0.90844685],\n",
       "       [0.9084115 ],\n",
       "       [0.9062727 ],\n",
       "       [0.902726  ],\n",
       "       [0.8979192 ],\n",
       "       [0.8919622 ],\n",
       "       [0.88583654],\n",
       "       [0.8802428 ],\n",
       "       [0.87598526],\n",
       "       [0.8746488 ],\n",
       "       [0.87713754],\n",
       "       [0.88302135],\n",
       "       [0.891226  ],\n",
       "       [0.89982146],\n",
       "       [0.9067557 ],\n",
       "       [0.9115319 ],\n",
       "       [0.913655  ],\n",
       "       [0.91266704],\n",
       "       [0.90865666],\n",
       "       [0.90273345],\n",
       "       [0.8968717 ],\n",
       "       [0.892663  ],\n",
       "       [0.8911103 ],\n",
       "       [0.8918787 ],\n",
       "       [0.8941461 ],\n",
       "       [0.89691484],\n",
       "       [0.89905846],\n",
       "       [0.9000526 ],\n",
       "       [0.89967763],\n",
       "       [0.89640236],\n",
       "       [0.88957596],\n",
       "       [0.8796522 ],\n",
       "       [0.8679045 ],\n",
       "       [0.8562412 ],\n",
       "       [0.84672415],\n",
       "       [0.8399467 ],\n",
       "       [0.8359204 ],\n",
       "       [0.8332771 ],\n",
       "       [0.83064556],\n",
       "       [0.82670414],\n",
       "       [0.8201005 ],\n",
       "       [0.81059635],\n",
       "       [0.79810774],\n",
       "       [0.78354365],\n",
       "       [0.76816225],\n",
       "       [0.75424796],\n",
       "       [0.7442602 ],\n",
       "       [0.73999345],\n",
       "       [0.7438293 ],\n",
       "       [0.7550122 ],\n",
       "       [0.7712783 ],\n",
       "       [0.7884869 ],\n",
       "       [0.803406  ],\n",
       "       [0.8149268 ],\n",
       "       [0.8220885 ],\n",
       "       [0.8236105 ],\n",
       "       [0.8197172 ],\n",
       "       [0.8118641 ],\n",
       "       [0.80210996],\n",
       "       [0.7909364 ],\n",
       "       [0.7783155 ],\n",
       "       [0.7643355 ],\n",
       "       [0.7491202 ],\n",
       "       [0.7345163 ],\n",
       "       [0.7228444 ],\n",
       "       [0.71578676],\n",
       "       [0.7135849 ],\n",
       "       [0.7156596 ],\n",
       "       [0.72069675],\n",
       "       [0.72653407],\n",
       "       [0.7298496 ],\n",
       "       [0.72907734],\n",
       "       [0.72590035],\n",
       "       [0.72195345],\n",
       "       [0.7177943 ],\n",
       "       [0.71261597],\n",
       "       [0.7066941 ],\n",
       "       [0.7017255 ],\n",
       "       [0.69932747],\n",
       "       [0.7008254 ],\n",
       "       [0.7062665 ],\n",
       "       [0.7157879 ],\n",
       "       [0.7281081 ],\n",
       "       [0.74231684],\n",
       "       [0.75729096],\n",
       "       [0.77189136],\n",
       "       [0.7854728 ],\n",
       "       [0.79727304],\n",
       "       [0.8058617 ],\n",
       "       [0.8108903 ],\n",
       "       [0.8135481 ],\n",
       "       [0.8143136 ],\n",
       "       [0.8125216 ],\n",
       "       [0.807854  ],\n",
       "       [0.80007905],\n",
       "       [0.78868353],\n",
       "       [0.7739682 ],\n",
       "       [0.75723994],\n",
       "       [0.73951304],\n",
       "       [0.7219153 ],\n",
       "       [0.70626056],\n",
       "       [0.6935051 ],\n",
       "       [0.6831012 ],\n",
       "       [0.6729705 ],\n",
       "       [0.66261417],\n",
       "       [0.65132403],\n",
       "       [0.63812006],\n",
       "       [0.6234349 ],\n",
       "       [0.60739076],\n",
       "       [0.59064794],\n",
       "       [0.57433045],\n",
       "       [0.560482  ],\n",
       "       [0.5492711 ],\n",
       "       [0.53989077],\n",
       "       [0.53086793],\n",
       "       [0.5215788 ],\n",
       "       [0.5117917 ],\n",
       "       [0.501425  ],\n",
       "       [0.4914212 ],\n",
       "       [0.48234996],\n",
       "       [0.47502857],\n",
       "       [0.4687557 ],\n",
       "       [0.46229112],\n",
       "       [0.45453072],\n",
       "       [0.4455472 ],\n",
       "       [0.4348537 ],\n",
       "       [0.42267025],\n",
       "       [0.40966827],\n",
       "       [0.39706522],\n",
       "       [0.38650778],\n",
       "       [0.37936783],\n",
       "       [0.37714767],\n",
       "       [0.37969553],\n",
       "       [0.38652104],\n",
       "       [0.39670867],\n",
       "       [0.4089972 ],\n",
       "       [0.42134202],\n",
       "       [0.43104988],\n",
       "       [0.43551844],\n",
       "       [0.4339345 ],\n",
       "       [0.4275157 ],\n",
       "       [0.41762096],\n",
       "       [0.4056931 ],\n",
       "       [0.39323878],\n",
       "       [0.38181725],\n",
       "       [0.3727889 ],\n",
       "       [0.36816227],\n",
       "       [0.3689749 ],\n",
       "       [0.37389618],\n",
       "       [0.38083392],\n",
       "       [0.387114  ],\n",
       "       [0.39088818],\n",
       "       [0.39262497],\n",
       "       [0.3936869 ],\n",
       "       [0.39621067],\n",
       "       [0.4017796 ],\n",
       "       [0.409998  ],\n",
       "       [0.41918743],\n",
       "       [0.42694503],\n",
       "       [0.4315216 ],\n",
       "       [0.43256682],\n",
       "       [0.42986035],\n",
       "       [0.4248684 ],\n",
       "       [0.41930485],\n",
       "       [0.41461888],\n",
       "       [0.40992013],\n",
       "       [0.40425164],\n",
       "       [0.3969478 ],\n",
       "       [0.38906676],\n",
       "       [0.3822209 ],\n",
       "       [0.37831947],\n",
       "       [0.37833467],\n",
       "       [0.3823157 ],\n",
       "       [0.3902784 ],\n",
       "       [0.40169477],\n",
       "       [0.41535854],\n",
       "       [0.42981064],\n",
       "       [0.44350168],\n",
       "       [0.45623025],\n",
       "       [0.46775317],\n",
       "       [0.4786685 ],\n",
       "       [0.48943686],\n",
       "       [0.49999496],\n",
       "       [0.5092864 ],\n",
       "       [0.5166118 ],\n",
       "       [0.52090704],\n",
       "       [0.52090734],\n",
       "       [0.5162565 ],\n",
       "       [0.507508  ],\n",
       "       [0.4965168 ],\n",
       "       [0.48369944],\n",
       "       [0.46937406],\n",
       "       [0.4540717 ],\n",
       "       [0.43836993],\n",
       "       [0.4230098 ],\n",
       "       [0.40846398],\n",
       "       [0.39495358],\n",
       "       [0.38290566],\n",
       "       [0.37271932],\n",
       "       [0.36504483],\n",
       "       [0.3603043 ],\n",
       "       [0.3571052 ],\n",
       "       [0.3541286 ],\n",
       "       [0.35050732],\n",
       "       [0.34602255],\n",
       "       [0.34093595],\n",
       "       [0.33557302],\n",
       "       [0.33021545],\n",
       "       [0.32491857],\n",
       "       [0.3194738 ],\n",
       "       [0.31384352],\n",
       "       [0.30807108],\n",
       "       [0.30236617],\n",
       "       [0.2967933 ],\n",
       "       [0.29106742],\n",
       "       [0.2852047 ],\n",
       "       [0.2795908 ],\n",
       "       [0.27456126],\n",
       "       [0.27030173],\n",
       "       [0.26679   ],\n",
       "       [0.26390055],\n",
       "       [0.26144108],\n",
       "       [0.2592133 ],\n",
       "       [0.25715208],\n",
       "       [0.25513738],\n",
       "       [0.25322866],\n",
       "       [0.25157166],\n",
       "       [0.25024328],\n",
       "       [0.24926071],\n",
       "       [0.24862838],\n",
       "       [0.24836946],\n",
       "       [0.24859469],\n",
       "       [0.24907419],\n",
       "       [0.24934594],\n",
       "       [0.24910524],\n",
       "       [0.24810357],\n",
       "       [0.24606955],\n",
       "       [0.24286634],\n",
       "       [0.23867393],\n",
       "       [0.23400427],\n",
       "       [0.22869286],\n",
       "       [0.22238734],\n",
       "       [0.21519712],\n",
       "       [0.20778373],\n",
       "       [0.20093127],\n",
       "       [0.19513114],\n",
       "       [0.19075336],\n",
       "       [0.18788859],\n",
       "       [0.18643296],\n",
       "       [0.18609314],\n",
       "       [0.18659991],\n",
       "       [0.18776058],\n",
       "       [0.18940546],\n",
       "       [0.19137129],\n",
       "       [0.19349256],\n",
       "       [0.1956096 ],\n",
       "       [0.19772574],\n",
       "       [0.19998792],\n",
       "       [0.2024174 ],\n",
       "       [0.20494631],\n",
       "       [0.20744425],\n",
       "       [0.20983642],\n",
       "       [0.21206868],\n",
       "       [0.21396835],\n",
       "       [0.21537887],\n",
       "       [0.21625072],\n",
       "       [0.21658613],\n",
       "       [0.21627863],\n",
       "       [0.21526612],\n",
       "       [0.21353914],\n",
       "       [0.21095294],\n",
       "       [0.20763816],\n",
       "       [0.20380574],\n",
       "       [0.1996701 ],\n",
       "       [0.1953187 ],\n",
       "       [0.19074357],\n",
       "       [0.18602394],\n",
       "       [0.18124563],\n",
       "       [0.17659722],\n",
       "       [0.17220277],\n",
       "       [0.16805044],\n",
       "       [0.16416728],\n",
       "       [0.16057494],\n",
       "       [0.15729085],\n",
       "       [0.15446219],\n",
       "       [0.15219307],\n",
       "       [0.15056135],\n",
       "       [0.14956556],\n",
       "       [0.14913356],\n",
       "       [0.1492458 ],\n",
       "       [0.15006685],\n",
       "       [0.15172957],\n",
       "       [0.15411006],\n",
       "       [0.15697506],\n",
       "       [0.16015616],\n",
       "       [0.16359214],\n",
       "       [0.16727668],\n",
       "       [0.17119172],\n",
       "       [0.17533967],\n",
       "       [0.17970406],\n",
       "       [0.18413985],\n",
       "       [0.18847921],\n",
       "       [0.19283944],\n",
       "       [0.19707993],\n",
       "       [0.20113729],\n",
       "       [0.20510226],\n",
       "       [0.20891327],\n",
       "       [0.21242884],\n",
       "       [0.2154751 ],\n",
       "       [0.21795028],\n",
       "       [0.21981251],\n",
       "       [0.22097246],\n",
       "       [0.22137445],\n",
       "       [0.22094932],\n",
       "       [0.21944812],\n",
       "       [0.2168963 ],\n",
       "       [0.2133011 ],\n",
       "       [0.20894627],\n",
       "       [0.20427203],\n",
       "       [0.1997267 ],\n",
       "       [0.19565773],\n",
       "       [0.19222859],\n",
       "       [0.18950808],\n",
       "       [0.18741862],\n",
       "       [0.1857912 ],\n",
       "       [0.18446586],\n",
       "       [0.18338647],\n",
       "       [0.18262343],\n",
       "       [0.18242213],\n",
       "       [0.18293682],\n",
       "       [0.18415761],\n",
       "       [0.18602194],\n",
       "       [0.18840848],\n",
       "       [0.19121853],\n",
       "       [0.1942442 ],\n",
       "       [0.1976007 ],\n",
       "       [0.20100118],\n",
       "       [0.20442513],\n",
       "       [0.20789562],\n",
       "       [0.21134154],\n",
       "       [0.2146293 ],\n",
       "       [0.21818206],\n",
       "       [0.22219534],\n",
       "       [0.22682804],\n",
       "       [0.23264143],\n",
       "       [0.23980372],\n",
       "       [0.24782522],\n",
       "       [0.2562846 ],\n",
       "       [0.2652176 ],\n",
       "       [0.27408525],\n",
       "       [0.2820641 ],\n",
       "       [0.288607  ],\n",
       "       [0.29365385],\n",
       "       [0.29738957],\n",
       "       [0.30012682],\n",
       "       [0.3020202 ],\n",
       "       [0.30321237],\n",
       "       [0.3040391 ],\n",
       "       [0.3048448 ],\n",
       "       [0.30592704],\n",
       "       [0.30719057],\n",
       "       [0.30843094],\n",
       "       [0.3093589 ],\n",
       "       [0.3099256 ],\n",
       "       [0.3103957 ],\n",
       "       [0.3110416 ],\n",
       "       [0.31276497],\n",
       "       [0.31715387],\n",
       "       [0.32568642],\n",
       "       [0.33854336],\n",
       "       [0.3556259 ],\n",
       "       [0.37626392],\n",
       "       [0.39971107],\n",
       "       [0.42473745],\n",
       "       [0.4505149 ],\n",
       "       [0.47535193],\n",
       "       [0.49720404],\n",
       "       [0.5155754 ],\n",
       "       [0.53084004],\n",
       "       [0.5432066 ],\n",
       "       [0.5524707 ],\n",
       "       [0.5589131 ],\n",
       "       [0.56325734],\n",
       "       [0.5666281 ],\n",
       "       [0.5702732 ],\n",
       "       [0.5733192 ],\n",
       "       [0.5747906 ],\n",
       "       [0.57430923],\n",
       "       [0.5724515 ],\n",
       "       [0.570019  ],\n",
       "       [0.5676998 ],\n",
       "       [0.56638277],\n",
       "       [0.5660808 ],\n",
       "       [0.56646025],\n",
       "       [0.56639385],\n",
       "       [0.5658978 ],\n",
       "       [0.56501985],\n",
       "       [0.5627794 ],\n",
       "       [0.55858535],\n",
       "       [0.55302036],\n",
       "       [0.54666865],\n",
       "       [0.54040784],\n",
       "       [0.5348569 ],\n",
       "       [0.5309864 ],\n",
       "       [0.5288711 ],\n",
       "       [0.52797014],\n",
       "       [0.5267284 ],\n",
       "       [0.5243156 ],\n",
       "       [0.5210377 ],\n",
       "       [0.518866  ],\n",
       "       [0.5196456 ],\n",
       "       [0.5240527 ],\n",
       "       [0.53138655],\n",
       "       [0.5399521 ],\n",
       "       [0.54715955],\n",
       "       [0.5515715 ],\n",
       "       [0.5532434 ],\n",
       "       [0.55304897],\n",
       "       [0.55372584],\n",
       "       [0.55744445],\n",
       "       [0.56572884],\n",
       "       [0.5787338 ],\n",
       "       [0.5950757 ],\n",
       "       [0.6117501 ],\n",
       "       [0.6263168 ],\n",
       "       [0.63734555],\n",
       "       [0.6454863 ],\n",
       "       [0.6516527 ],\n",
       "       [0.65604866],\n",
       "       [0.65883005],\n",
       "       [0.66021764],\n",
       "       [0.66103697],\n",
       "       [0.6614864 ],\n",
       "       [0.6612916 ],\n",
       "       [0.6607169 ],\n",
       "       [0.65941   ],\n",
       "       [0.65744895],\n",
       "       [0.65533257],\n",
       "       [0.654636  ],\n",
       "       [0.65552473],\n",
       "       [0.65771735],\n",
       "       [0.6610896 ],\n",
       "       [0.6665281 ],\n",
       "       [0.67480475],\n",
       "       [0.685892  ],\n",
       "       [0.69873345],\n",
       "       [0.71187407],\n",
       "       [0.7235592 ],\n",
       "       [0.73289996],\n",
       "       [0.7399428 ],\n",
       "       [0.7451812 ],\n",
       "       [0.7486043 ],\n",
       "       [0.7507317 ],\n",
       "       [0.7525434 ],\n",
       "       [0.7545104 ],\n",
       "       [0.75698525],\n",
       "       [0.7599928 ],\n",
       "       [0.7620727 ],\n",
       "       [0.7613687 ],\n",
       "       [0.7571349 ],\n",
       "       [0.749974  ],\n",
       "       [0.74035716],\n",
       "       [0.7296508 ],\n",
       "       [0.7197223 ],\n",
       "       [0.7116885 ],\n",
       "       [0.7070503 ],\n",
       "       [0.70590496],\n",
       "       [0.70850724],\n",
       "       [0.7143595 ],\n",
       "       [0.7232605 ],\n",
       "       [0.73468375],\n",
       "       [0.7474469 ],\n",
       "       [0.7609617 ],\n",
       "       [0.77396923],\n",
       "       [0.7847844 ],\n",
       "       [0.79298216],\n",
       "       [0.79881704],\n",
       "       [0.802207  ],\n",
       "       [0.803219  ],\n",
       "       [0.80159235],\n",
       "       [0.7978644 ],\n",
       "       [0.79353136],\n",
       "       [0.7862256 ],\n",
       "       [0.7741817 ],\n",
       "       [0.7574032 ],\n",
       "       [0.7372956 ],\n",
       "       [0.71558344],\n",
       "       [0.6943043 ],\n",
       "       [0.67575896],\n",
       "       [0.6622896 ],\n",
       "       [0.65536374],\n",
       "       [0.6552855 ],\n",
       "       [0.6613375 ],\n",
       "       [0.67135   ],\n",
       "       [0.68367124],\n",
       "       [0.6965649 ],\n",
       "       [0.70911956],\n",
       "       [0.7209035 ],\n",
       "       [0.73223716],\n",
       "       [0.742537  ],\n",
       "       [0.75144255],\n",
       "       [0.75889957],\n",
       "       [0.7653308 ],\n",
       "       [0.7704497 ],\n",
       "       [0.7739537 ],\n",
       "       [0.7759525 ],\n",
       "       [0.7760885 ],\n",
       "       [0.77365243],\n",
       "       [0.76844263],\n",
       "       [0.7602335 ],\n",
       "       [0.7499747 ],\n",
       "       [0.7387312 ],\n",
       "       [0.7295114 ],\n",
       "       [0.7241807 ],\n",
       "       [0.7227148 ],\n",
       "       [0.72392267],\n",
       "       [0.7265867 ],\n",
       "       [0.72948825],\n",
       "       [0.7320203 ],\n",
       "       [0.734952  ],\n",
       "       [0.7391337 ],\n",
       "       [0.74527717],\n",
       "       [0.7539679 ],\n",
       "       [0.76517487],\n",
       "       [0.778041  ],\n",
       "       [0.7908089 ],\n",
       "       [0.8018993 ]], dtype=float32)"
      ]
     },
     "execution_count": 104,
     "metadata": {},
     "output_type": "execute_result"
    }
   ],
   "source": [
    "y_predict"
   ]
  },
  {
   "cell_type": "code",
   "execution_count": 108,
   "metadata": {},
   "outputs": [],
   "source": [
    "scale = 1/scaler.scale_"
   ]
  },
  {
   "cell_type": "code",
   "execution_count": 109,
   "metadata": {},
   "outputs": [],
   "source": [
    "y_predict = y_predict * scale"
   ]
  },
  {
   "cell_type": "code",
   "execution_count": 110,
   "metadata": {},
   "outputs": [],
   "source": [
    "y = y * scale"
   ]
  },
  {
   "cell_type": "code",
   "execution_count": 113,
   "metadata": {},
   "outputs": [
    {
     "data": {
      "image/png": "[encoded data removed]",
      "text/plain": [
       "<Figure size 1000x800 with 1 Axes>"
      ]
     },
     "metadata": {},
     "output_type": "display_data"
    }
   ],
   "source": [
    "plt.figure(figsize=(10,8))\n",
    "plt.plot(y_predict, 'r', label = 'Predicted Price')\n",
    "plt.plot(y, 'b', label = 'Original Price')\n",
    "plt.xlabel('Time')\n",
    "plt.ylabel('Price')\n",
    "plt.show()"
   ]
  },
  {
   "cell_type": "code",
   "execution_count": 115,
   "metadata": {},
   "outputs": [],
   "source": [
    "model.save('Stock Prediction Model.keras')"
   ]
  }
 ],
 "metadata": {
  "kernelspec": {
   "display_name": "TF",
   "language": "python",
   "name": "python3"
  },
  "language_info": {
   "codemirror_mode": {
    "name": "ipython",
    "version": 3
   },
   "file_extension": ".py",
   "mimetype": "text/x-python",
   "name": "python",
   "nbconvert_exporter": "python",
   "pygments_lexer": "ipython3",
   "version": "3.10.15"
  }
 },
 "nbformat": 4,
 "nbformat_minor": 2
}
